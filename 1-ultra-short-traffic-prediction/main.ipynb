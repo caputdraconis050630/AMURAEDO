{
 "cells": [
  {
   "cell_type": "code",
   "execution_count": null,
   "id": "d1b26f94",
   "metadata": {},
   "outputs": [],
   "source": [
    " # 추론 서버랑 동일하게 환경 설정\n",
    " # https://aifactory.space/task/9162/notice/162\n",
    "!pip install --quiet \\\n",
    "  huggingface-hub==0.33.5 \\\n",
    "  lightgbm==4.6.0 \\\n",
    "  numpy==2.2.6 \\\n",
    "  opencv-python-headless==4.12.0.88 \\\n",
    "  pandas==2.3.1 \\\n",
    "  pillow==11.0.0 \\\n",
    "  pycocotools==2.0.10 \\\n",
    "  safetensors==0.5.3 \\\n",
    "  scikit-image==0.25.2 \\\n",
    "  scikit-learn==1.7.1 \\\n",
    "  scipy==1.15.3 \\\n",
    "  torch==2.7.1 \\\n",
    "  torchaudio==2.7.1 \\\n",
    "  torchvision==0.22.1 \\\n",
    "  transformers==4.53.3 \\\n",
    "  xgboost==3.0.2"
   ]
  }
 ],
 "metadata": {
  "language_info": {
   "name": "python"
  }
 },
 "nbformat": 4,
 "nbformat_minor": 5
}
